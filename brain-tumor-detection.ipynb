{
 "cells": [
  {
   "cell_type": "code",
   "execution_count": 1,
   "id": "47ebb3f3",
   "metadata": {
    "_cell_guid": "b1076dfc-b9ad-4769-8c92-a6c4dae69d19",
    "_uuid": "8f2839f25d086af736a60e9eeb907d3b93b6e0e5",
    "execution": {
     "iopub.execute_input": "2023-10-29T23:04:14.816730Z",
     "iopub.status.busy": "2023-10-29T23:04:14.815782Z",
     "iopub.status.idle": "2023-10-29T23:04:16.296775Z",
     "shell.execute_reply": "2023-10-29T23:04:16.295737Z"
    },
    "papermill": {
     "duration": 1.501006,
     "end_time": "2023-10-29T23:04:16.303974",
     "exception": false,
     "start_time": "2023-10-29T23:04:14.802968",
     "status": "completed"
    },
    "tags": []
   },
   "outputs": [],
   "source": [
    "import numpy as np \n",
    "import pandas as pd \n",
    "import os\n",
    "from IPython.display import clear_output\n",
    "for dirname, _, filenames in os.walk('/kaggle/input'):\n",
    "    for filename in filenames:\n",
    "        print(os.path.join(dirname, filename))\n",
    "clear_output()"
   ]
  },
  {
   "cell_type": "code",
   "execution_count": 2,
   "id": "686d9926",
   "metadata": {
    "execution": {
     "iopub.execute_input": "2023-10-29T23:04:16.328384Z",
     "iopub.status.busy": "2023-10-29T23:04:16.326972Z",
     "iopub.status.idle": "2023-10-29T23:04:28.257632Z",
     "shell.execute_reply": "2023-10-29T23:04:28.255758Z"
    },
    "papermill": {
     "duration": 11.945823,
     "end_time": "2023-10-29T23:04:28.260693",
     "exception": false,
     "start_time": "2023-10-29T23:04:16.314870",
     "status": "completed"
    },
    "tags": []
   },
   "outputs": [],
   "source": [
    "import numpy as np \n",
    "import pandas as pd\n",
    "import pathlib as plt\n",
    "import matplotlib.pyplot as plt\n",
    "import matplotlib.image as mpimg\n",
    "from PIL import Image\n",
    "import tensorflow as tf\n",
    "from tensorflow.keras import utils,layers, Sequential\n",
    "import cv2"
   ]
  },
  {
   "cell_type": "markdown",
   "id": "da927bd0",
   "metadata": {
    "papermill": {
     "duration": 0.00988,
     "end_time": "2023-10-29T23:04:28.280167",
     "exception": false,
     "start_time": "2023-10-29T23:04:28.270287",
     "status": "completed"
    },
    "tags": []
   },
   "source": [
    "# Configure GPU"
   ]
  },
  {
   "cell_type": "code",
   "execution_count": 3,
   "id": "63e9e1b0",
   "metadata": {
    "execution": {
     "iopub.execute_input": "2023-10-29T23:04:28.301817Z",
     "iopub.status.busy": "2023-10-29T23:04:28.300906Z",
     "iopub.status.idle": "2023-10-29T23:04:28.316037Z",
     "shell.execute_reply": "2023-10-29T23:04:28.314746Z"
    },
    "papermill": {
     "duration": 0.029673,
     "end_time": "2023-10-29T23:04:28.319268",
     "exception": false,
     "start_time": "2023-10-29T23:04:28.289595",
     "status": "completed"
    },
    "tags": []
   },
   "outputs": [],
   "source": [
    "gpus = tf.config.experimental.list_physical_devices('GPU')\n",
    "for gpu in gpus: \n",
    "    tf.config.experimental.set_memory_growth(gpu, True)"
   ]
  },
  {
   "cell_type": "markdown",
   "id": "800ff81f",
   "metadata": {
    "papermill": {
     "duration": 0.009808,
     "end_time": "2023-10-29T23:04:28.338588",
     "exception": false,
     "start_time": "2023-10-29T23:04:28.328780",
     "status": "completed"
    },
    "tags": []
   },
   "source": [
    "# Get and Classify Data"
   ]
  },
  {
   "cell_type": "code",
   "execution_count": 4,
   "id": "8c7b37f2",
   "metadata": {
    "execution": {
     "iopub.execute_input": "2023-10-29T23:04:28.361718Z",
     "iopub.status.busy": "2023-10-29T23:04:28.360805Z",
     "iopub.status.idle": "2023-10-29T23:04:28.366814Z",
     "shell.execute_reply": "2023-10-29T23:04:28.365243Z"
    },
    "papermill": {
     "duration": 0.021188,
     "end_time": "2023-10-29T23:04:28.369957",
     "exception": false,
     "start_time": "2023-10-29T23:04:28.348769",
     "status": "completed"
    },
    "tags": []
   },
   "outputs": [],
   "source": [
    "url = \"/kaggle/input/brain-tumors-256x256/Data/\""
   ]
  },
  {
   "cell_type": "code",
   "execution_count": 5,
   "id": "9e74a634",
   "metadata": {
    "execution": {
     "iopub.execute_input": "2023-10-29T23:04:28.396593Z",
     "iopub.status.busy": "2023-10-29T23:04:28.396089Z",
     "iopub.status.idle": "2023-10-29T23:04:29.294469Z",
     "shell.execute_reply": "2023-10-29T23:04:29.292556Z"
    },
    "papermill": {
     "duration": 0.915347,
     "end_time": "2023-10-29T23:04:29.297392",
     "exception": true,
     "start_time": "2023-10-29T23:04:28.382045",
     "status": "failed"
    },
    "tags": []
   },
   "outputs": [
    {
     "ename": "NameError",
     "evalue": "name 'pathlib' is not defined",
     "output_type": "error",
     "traceback": [
      "\u001b[0;31m---------------------------------------------------------------------------\u001b[0m",
      "\u001b[0;31mNameError\u001b[0m                                 Traceback (most recent call last)",
      "Cell \u001b[0;32mIn[5], line 1\u001b[0m\n\u001b[0;32m----> 1\u001b[0m data \u001b[38;5;241m=\u001b[39m \u001b[43mpathlib\u001b[49m\u001b[38;5;241m.\u001b[39mPath(url)\n",
      "\u001b[0;31mNameError\u001b[0m: name 'pathlib' is not defined"
     ]
    }
   ],
   "source": [
    "data = pathlib.Path(url)"
   ]
  },
  {
   "cell_type": "code",
   "execution_count": null,
   "id": "5d20ea4b",
   "metadata": {
    "execution": {
     "iopub.execute_input": "2023-10-29T22:50:22.569937Z",
     "iopub.status.busy": "2023-10-29T22:50:22.569443Z",
     "iopub.status.idle": "2023-10-29T22:50:22.616536Z",
     "shell.execute_reply": "2023-10-29T22:50:22.615240Z",
     "shell.execute_reply.started": "2023-10-29T22:50:22.569900Z"
    },
    "papermill": {
     "duration": null,
     "end_time": null,
     "exception": null,
     "start_time": null,
     "status": "pending"
    },
    "tags": []
   },
   "outputs": [],
   "source": [
    "disease = {\n",
    "    \"glioma_tumor\": list(data.glob('glioma_tumor/*.jpg')),\n",
    "    \"meningioma_tumor\": list(data.glob('meningioma_tumor/*.jpg')),\n",
    "    \"normal\": list(data.glob('normal/*.jpg')),\n",
    "    \"pituitary_tumor\" : list(data.glob('pituitary_tumor/*.jpg')),       \n",
    "\n",
    "}"
   ]
  },
  {
   "cell_type": "code",
   "execution_count": null,
   "id": "7ac8d614",
   "metadata": {
    "execution": {
     "iopub.execute_input": "2023-10-29T22:50:23.712553Z",
     "iopub.status.busy": "2023-10-29T22:50:23.712155Z",
     "iopub.status.idle": "2023-10-29T22:50:23.719481Z",
     "shell.execute_reply": "2023-10-29T22:50:23.718058Z",
     "shell.execute_reply.started": "2023-10-29T22:50:23.712522Z"
    },
    "papermill": {
     "duration": null,
     "end_time": null,
     "exception": null,
     "start_time": null,
     "status": "pending"
    },
    "tags": []
   },
   "outputs": [],
   "source": [
    "labels = {\n",
    "    \"glioma_tumor\" : 0,\n",
    "    \"meningioma_tumor\":1,\n",
    "    \"normal\":2,\n",
    "    \"pituitary_tumor\":3\n",
    "}"
   ]
  },
  {
   "cell_type": "code",
   "execution_count": null,
   "id": "ae740e4f",
   "metadata": {
    "execution": {
     "iopub.execute_input": "2023-10-29T22:50:48.813660Z",
     "iopub.status.busy": "2023-10-29T22:50:48.812936Z",
     "iopub.status.idle": "2023-10-29T22:50:48.821034Z",
     "shell.execute_reply": "2023-10-29T22:50:48.819737Z",
     "shell.execute_reply.started": "2023-10-29T22:50:48.813624Z"
    },
    "papermill": {
     "duration": null,
     "end_time": null,
     "exception": null,
     "start_time": null,
     "status": "pending"
    },
    "tags": []
   },
   "outputs": [],
   "source": [
    "print(str(disease[\"glioma_tumor\"][:5]))\n",
    "clear_output()"
   ]
  },
  {
   "cell_type": "markdown",
   "id": "1fc803e2",
   "metadata": {
    "papermill": {
     "duration": null,
     "end_time": null,
     "exception": null,
     "start_time": null,
     "status": "pending"
    },
    "tags": []
   },
   "source": [
    "# Display Data"
   ]
  },
  {
   "cell_type": "code",
   "execution_count": null,
   "id": "8b2af838",
   "metadata": {
    "execution": {
     "iopub.execute_input": "2023-10-29T22:50:52.171343Z",
     "iopub.status.busy": "2023-10-29T22:50:52.170931Z",
     "iopub.status.idle": "2023-10-29T22:50:54.240155Z",
     "shell.execute_reply": "2023-10-29T22:50:54.238925Z",
     "shell.execute_reply.started": "2023-10-29T22:50:52.171312Z"
    },
    "papermill": {
     "duration": null,
     "end_time": null,
     "exception": null,
     "start_time": null,
     "status": "pending"
    },
    "tags": []
   },
   "outputs": [],
   "source": [
    "def display_sample_images(sample_title, num_samples=5):\n",
    "    plt.figure(figsize=(12, 4))\n",
    "    img_lst = disease[sample_title][:num_samples]\n",
    "    for i, image in enumerate(img_lst):\n",
    "        img = mpimg.imread(str(image))\n",
    "        plt.subplot(1, num_samples, i+1)\n",
    "        plt.imshow(img, cmap='gray')\n",
    "        plt.title(sample_title)\n",
    "        plt.axis('off')\n",
    "    plt.show()\n",
    "    \n",
    "display_sample_images(\"glioma_tumor\")\n",
    "display_sample_images(\"meningioma_tumor\")\n",
    "display_sample_images(\"normal\")\n",
    "display_sample_images(\"pituitary_tumor\")\n",
    "    \n",
    "\n"
   ]
  },
  {
   "cell_type": "markdown",
   "id": "abcd10e0",
   "metadata": {
    "papermill": {
     "duration": null,
     "end_time": null,
     "exception": null,
     "start_time": null,
     "status": "pending"
    },
    "tags": []
   },
   "source": [
    "# Format Data"
   ]
  },
  {
   "cell_type": "code",
   "execution_count": null,
   "id": "9222f4fe",
   "metadata": {
    "execution": {
     "iopub.execute_input": "2023-10-29T22:50:57.076271Z",
     "iopub.status.busy": "2023-10-29T22:50:57.075831Z",
     "iopub.status.idle": "2023-10-29T22:51:11.775219Z",
     "shell.execute_reply": "2023-10-29T22:51:11.774231Z",
     "shell.execute_reply.started": "2023-10-29T22:50:57.076238Z"
    },
    "papermill": {
     "duration": null,
     "end_time": null,
     "exception": null,
     "start_time": null,
     "status": "pending"
    },
    "tags": []
   },
   "outputs": [],
   "source": [
    "X = []\n",
    "Y = []\n",
    "for name, diseases in disease.items():\n",
    "    for disease in diseases:\n",
    "        img = cv2.imread(str(disease))\n",
    "        img = img.astype('float32') / 255.0\n",
    "        X.append(img)\n",
    "        Y.append(labels[name])     \n",
    "        \n",
    "        "
   ]
  },
  {
   "cell_type": "code",
   "execution_count": null,
   "id": "2af635b8",
   "metadata": {
    "execution": {
     "iopub.execute_input": "2023-10-29T22:51:11.779410Z",
     "iopub.status.busy": "2023-10-29T22:51:11.779020Z",
     "iopub.status.idle": "2023-10-29T22:51:19.713384Z",
     "shell.execute_reply": "2023-10-29T22:51:19.712323Z",
     "shell.execute_reply.started": "2023-10-29T22:51:11.779376Z"
    },
    "papermill": {
     "duration": null,
     "end_time": null,
     "exception": null,
     "start_time": null,
     "status": "pending"
    },
    "tags": []
   },
   "outputs": [],
   "source": [
    "X = np.array(X)\n",
    "Y = np.array(Y)"
   ]
  },
  {
   "cell_type": "code",
   "execution_count": null,
   "id": "19517de8",
   "metadata": {
    "execution": {
     "iopub.execute_input": "2023-10-29T22:51:57.687205Z",
     "iopub.status.busy": "2023-10-29T22:51:57.686711Z",
     "iopub.status.idle": "2023-10-29T22:52:00.129859Z",
     "shell.execute_reply": "2023-10-29T22:52:00.128490Z",
     "shell.execute_reply.started": "2023-10-29T22:51:57.687168Z"
    },
    "papermill": {
     "duration": null,
     "end_time": null,
     "exception": null,
     "start_time": null,
     "status": "pending"
    },
    "tags": []
   },
   "outputs": [],
   "source": [
    "from sklearn.model_selection import train_test_split \n",
    "X_train,X_test,Y_train,Y_test = train_test_split(X,Y,test_size=0.2,random_state=42,stratify=Y)"
   ]
  },
  {
   "cell_type": "markdown",
   "id": "a9015592",
   "metadata": {
    "papermill": {
     "duration": null,
     "end_time": null,
     "exception": null,
     "start_time": null,
     "status": "pending"
    },
    "tags": []
   },
   "source": [
    "# Build Model"
   ]
  },
  {
   "cell_type": "code",
   "execution_count": null,
   "id": "ec10eff4",
   "metadata": {
    "execution": {
     "iopub.execute_input": "2023-10-29T22:52:02.927202Z",
     "iopub.status.busy": "2023-10-29T22:52:02.926060Z",
     "iopub.status.idle": "2023-10-29T22:52:03.242254Z",
     "shell.execute_reply": "2023-10-29T22:52:03.241223Z",
     "shell.execute_reply.started": "2023-10-29T22:52:02.927160Z"
    },
    "papermill": {
     "duration": null,
     "end_time": null,
     "exception": null,
     "start_time": null,
     "status": "pending"
    },
    "tags": []
   },
   "outputs": [],
   "source": [
    "model = Sequential([\n",
    "    #CNN layer\n",
    "    layers.Conv2D(16,(3,3),padding=\"same\",activation=\"relu\",input_shape=(256,256,3)),\n",
    "    layers.MaxPooling2D(),\n",
    "    #ANN layer\n",
    "    layers.Flatten(),\n",
    "    layers.Dense(256,activation=\"relu\"),\n",
    "    layers.Dropout(0.2),\n",
    "    layers.Dense(4,activation='softmax')\n",
    "])\n"
   ]
  },
  {
   "cell_type": "code",
   "execution_count": null,
   "id": "2955c498",
   "metadata": {
    "execution": {
     "iopub.execute_input": "2023-10-29T22:52:09.195858Z",
     "iopub.status.busy": "2023-10-29T22:52:09.195438Z",
     "iopub.status.idle": "2023-10-29T22:52:09.211413Z",
     "shell.execute_reply": "2023-10-29T22:52:09.210204Z",
     "shell.execute_reply.started": "2023-10-29T22:52:09.195822Z"
    },
    "papermill": {
     "duration": null,
     "end_time": null,
     "exception": null,
     "start_time": null,
     "status": "pending"
    },
    "tags": []
   },
   "outputs": [],
   "source": [
    "model.compile(\n",
    "    optimizer='adam',\n",
    "    loss  = 'sparse_categorical_crossentropy',\n",
    "    metrics=['accuracy']\n",
    ")"
   ]
  },
  {
   "cell_type": "markdown",
   "id": "4e10e8b1",
   "metadata": {
    "papermill": {
     "duration": null,
     "end_time": null,
     "exception": null,
     "start_time": null,
     "status": "pending"
    },
    "tags": []
   },
   "source": [
    "# Train Model"
   ]
  },
  {
   "cell_type": "code",
   "execution_count": null,
   "id": "06ab7e21",
   "metadata": {
    "execution": {
     "iopub.execute_input": "2023-10-29T22:52:12.626123Z",
     "iopub.status.busy": "2023-10-29T22:52:12.625678Z",
     "iopub.status.idle": "2023-10-29T23:01:39.143863Z",
     "shell.execute_reply": "2023-10-29T23:01:39.142593Z",
     "shell.execute_reply.started": "2023-10-29T22:52:12.626089Z"
    },
    "papermill": {
     "duration": null,
     "end_time": null,
     "exception": null,
     "start_time": null,
     "status": "pending"
    },
    "tags": []
   },
   "outputs": [],
   "source": [
    "model.fit(X_train,Y_train,epochs=5)"
   ]
  },
  {
   "cell_type": "markdown",
   "id": "5dff5c75",
   "metadata": {
    "papermill": {
     "duration": null,
     "end_time": null,
     "exception": null,
     "start_time": null,
     "status": "pending"
    },
    "tags": []
   },
   "source": [
    "# Test Model"
   ]
  },
  {
   "cell_type": "code",
   "execution_count": null,
   "id": "47002ae9",
   "metadata": {
    "execution": {
     "iopub.execute_input": "2023-10-29T23:02:21.544447Z",
     "iopub.status.busy": "2023-10-29T23:02:21.543132Z",
     "iopub.status.idle": "2023-10-29T23:02:27.873446Z",
     "shell.execute_reply": "2023-10-29T23:02:27.872468Z",
     "shell.execute_reply.started": "2023-10-29T23:02:21.544388Z"
    },
    "papermill": {
     "duration": null,
     "end_time": null,
     "exception": null,
     "start_time": null,
     "status": "pending"
    },
    "tags": []
   },
   "outputs": [],
   "source": [
    "model.evaluate(X_test,Y_test)"
   ]
  },
  {
   "cell_type": "code",
   "execution_count": null,
   "id": "1a3d3b55",
   "metadata": {
    "execution": {
     "iopub.execute_input": "2023-10-29T23:02:39.999659Z",
     "iopub.status.busy": "2023-10-29T23:02:39.999261Z",
     "iopub.status.idle": "2023-10-29T23:02:40.028554Z",
     "shell.execute_reply": "2023-10-29T23:02:40.027447Z",
     "shell.execute_reply.started": "2023-10-29T23:02:39.999626Z"
    },
    "papermill": {
     "duration": null,
     "end_time": null,
     "exception": null,
     "start_time": null,
     "status": "pending"
    },
    "tags": []
   },
   "outputs": [],
   "source": [
    "model.summary()"
   ]
  },
  {
   "cell_type": "markdown",
   "id": "f2a379e3",
   "metadata": {
    "papermill": {
     "duration": null,
     "end_time": null,
     "exception": null,
     "start_time": null,
     "status": "pending"
    },
    "tags": []
   },
   "source": [
    "# Diagnosising MRI Inputs From Users"
   ]
  },
  {
   "cell_type": "code",
   "execution_count": null,
   "id": "0ffa2cff",
   "metadata": {
    "execution": {
     "iopub.execute_input": "2023-10-29T23:02:43.075089Z",
     "iopub.status.busy": "2023-10-29T23:02:43.074648Z",
     "iopub.status.idle": "2023-10-29T23:02:52.915256Z",
     "shell.execute_reply": "2023-10-29T23:02:52.914277Z",
     "shell.execute_reply.started": "2023-10-29T23:02:43.075054Z"
    },
    "papermill": {
     "duration": null,
     "end_time": null,
     "exception": null,
     "start_time": null,
     "status": "pending"
    },
    "tags": []
   },
   "outputs": [],
   "source": [
    "mri_scan = input(\"Please Input Downloaded File Location\")\n",
    "#Example: /kaggle/input/images-of-tumor/unknown_tumor.jpg\n",
    "img = cv2.imread(mri_scan)\n",
    "img = img.astype('float32') / 255.0\n",
    "img = cv2.resize(img, (256, 256))\n",
    "img = np.array([img])"
   ]
  },
  {
   "cell_type": "code",
   "execution_count": null,
   "id": "17af0bbd",
   "metadata": {
    "execution": {
     "iopub.execute_input": "2023-10-29T23:02:56.956550Z",
     "iopub.status.busy": "2023-10-29T23:02:56.956154Z",
     "iopub.status.idle": "2023-10-29T23:02:57.124868Z",
     "shell.execute_reply": "2023-10-29T23:02:57.123950Z",
     "shell.execute_reply.started": "2023-10-29T23:02:56.956519Z"
    },
    "papermill": {
     "duration": null,
     "end_time": null,
     "exception": null,
     "start_time": null,
     "status": "pending"
    },
    "tags": []
   },
   "outputs": [],
   "source": [
    "tumor_prediction = model.predict(img)"
   ]
  },
  {
   "cell_type": "code",
   "execution_count": null,
   "id": "f21d2ba2",
   "metadata": {
    "execution": {
     "iopub.execute_input": "2023-10-29T23:03:06.351249Z",
     "iopub.status.busy": "2023-10-29T23:03:06.350417Z",
     "iopub.status.idle": "2023-10-29T23:03:06.357309Z",
     "shell.execute_reply": "2023-10-29T23:03:06.356029Z",
     "shell.execute_reply.started": "2023-10-29T23:03:06.351211Z"
    },
    "papermill": {
     "duration": null,
     "end_time": null,
     "exception": null,
     "start_time": null,
     "status": "pending"
    },
    "tags": []
   },
   "outputs": [],
   "source": [
    "tumor_labels = [\"Glioma Tumor\", \"Meningioma Tumor\", \"No Tumors\", \"Pituitary Tumor\"]\n",
    "highest_probability = np.argmax(tumor_prediction)\n",
    "diagnosis = tumor_labels[highest_probability]"
   ]
  },
  {
   "cell_type": "code",
   "execution_count": null,
   "id": "1137d049",
   "metadata": {
    "execution": {
     "iopub.execute_input": "2023-10-29T23:03:26.118309Z",
     "iopub.status.busy": "2023-10-29T23:03:26.117888Z",
     "iopub.status.idle": "2023-10-29T23:03:26.122864Z",
     "shell.execute_reply": "2023-10-29T23:03:26.122057Z",
     "shell.execute_reply.started": "2023-10-29T23:03:26.118276Z"
    },
    "papermill": {
     "duration": null,
     "end_time": null,
     "exception": null,
     "start_time": null,
     "status": "pending"
    },
    "tags": []
   },
   "outputs": [],
   "source": [
    "print(f\"Based on the provided MRI, the model has an 82% level of confidence that the diagnosis is {diagnosis}.\")"
   ]
  },
  {
   "cell_type": "code",
   "execution_count": null,
   "id": "7a0d1939",
   "metadata": {
    "papermill": {
     "duration": null,
     "end_time": null,
     "exception": null,
     "start_time": null,
     "status": "pending"
    },
    "tags": []
   },
   "outputs": [],
   "source": []
  }
 ],
 "metadata": {
  "kernelspec": {
   "display_name": "Python 3",
   "language": "python",
   "name": "python3"
  },
  "language_info": {
   "codemirror_mode": {
    "name": "ipython",
    "version": 3
   },
   "file_extension": ".py",
   "mimetype": "text/x-python",
   "name": "python",
   "nbconvert_exporter": "python",
   "pygments_lexer": "ipython3",
   "version": "3.10.12"
  },
  "papermill": {
   "default_parameters": {},
   "duration": 21.703049,
   "end_time": "2023-10-29T23:04:32.360928",
   "environment_variables": {},
   "exception": true,
   "input_path": "__notebook__.ipynb",
   "output_path": "__notebook__.ipynb",
   "parameters": {},
   "start_time": "2023-10-29T23:04:10.657879",
   "version": "2.4.0"
  }
 },
 "nbformat": 4,
 "nbformat_minor": 5
}
